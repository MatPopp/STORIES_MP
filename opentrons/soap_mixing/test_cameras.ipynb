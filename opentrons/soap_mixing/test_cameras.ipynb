{
 "cells": [
  {
   "cell_type": "markdown",
   "id": "8c7984f3",
   "metadata": {},
   "source": [
    "## Test internal camera"
   ]
  },
  {
   "cell_type": "code",
   "execution_count": 16,
   "id": "e6bb4a99",
   "metadata": {},
   "outputs": [],
   "source": [
    "## code as in https://github.com/Opentrons/opentrons/blob/b4831cffd0005b57e267c0c8d7c511e7607ca9f5/hardware-testing/hardware_testing/gravimetric/execute.py#L242\n",
    "import glob\n",
    "from subprocess import run as run_subprocess\n",
    "import os"
   ]
  },
  {
   "cell_type": "code",
   "execution_count": 4,
   "id": "04cee1ed",
   "metadata": {},
   "outputs": [
    {
     "name": "stdout",
     "output_type": "stream",
     "text": [
      "['/dev/video3', '/dev/video2', '/dev/video1', '/dev/video0']\n"
     ]
    }
   ],
   "source": [
    "cameras = glob.glob(\"/dev/video*\")\n",
    "print(cameras)"
   ]
  },
  {
   "cell_type": "code",
   "execution_count": 17,
   "id": "9b369552",
   "metadata": {},
   "outputs": [
    {
     "name": "stderr",
     "output_type": "stream",
     "text": [
      "<\n",
      "The pixelformat 'MJPG' is invalid\n",
      "\n",
      "The pixelformat 'MJPG' is invalid\n"
     ]
    }
   ],
   "source": [
    "for camera in cameras:\n",
    "    cam_pic_name = \"image.jpg\"\n",
    "    cam_pic_path = cam_pic_name\n",
    "    CAM_CMD_OT3 = (\n",
    "    \"v4l2-ctl --device {1} --set-fmt-video=width=1920,height=1080,pixelformat=MJPG \"\n",
    "    \"--stream-mmap --stream-to={0} --stream-count=1\"\n",
    "    )\n",
    "    process_cmd = CAM_CMD_OT3.format(str(cam_pic_path), camera)\n",
    "    try:\n",
    "        run_subprocess(process_cmd.split(\" \"), timeout=2)  # take a picture\n",
    "    except subprocess.TimeoutExpired:\n",
    "        os.remove(cam_pic_path)"
   ]
  },
  {
   "cell_type": "code",
   "execution_count": 36,
   "id": "ec8ec4a0",
   "metadata": {},
   "outputs": [
    {
     "name": "stdout",
     "output_type": "stream",
     "text": [
      "Cannot open device /dev/video4, exiting.\r\n"
     ]
    }
   ],
   "source": [
    "!v4l2-ctl --device /dev/video --set-fmt-video=width=1920,height=1080, --stream-mmap --stream-to=my_image.jpg --stream-count=1\n",
    "    "
   ]
  },
  {
   "cell_type": "markdown",
   "id": "7517b2a6",
   "metadata": {},
   "source": [
    "No success, so far. "
   ]
  },
  {
   "cell_type": "markdown",
   "id": "d4236319",
   "metadata": {},
   "source": [
    "## Get image from stream (from raspicam, running mjpeg_server)\n",
    "* for accessing the live-stream go to http://192.168.0.125:8000/stream.mjpg"
   ]
  },
  {
   "cell_type": "code",
   "execution_count": 15,
   "id": "c3b0b949",
   "metadata": {},
   "outputs": [],
   "source": [
    "\n",
    "import requests\n",
    "from PIL import Image\n",
    "from io import BytesIO\n",
    "import re\n",
    "from IPython.display import Image as ipython_Image\n",
    "from IPython.display import display"
   ]
  },
  {
   "cell_type": "code",
   "execution_count": 20,
   "id": "e3a1f66c",
   "metadata": {},
   "outputs": [
    {
     "data": {
      "image/jpeg": "[encoded data removed]",
      "text/plain": [
       "<IPython.core.display.Image object>"
      ]
     },
     "metadata": {},
     "output_type": "display_data"
    }
   ],
   "source": [
    "def get_single_image(stream_url = \"http://192.168.0.125:8000/stream.mjpg\",\n",
    "                    filename = \"image.jpg\"):\n",
    "\n",
    "    # Send a GET request to the stream\n",
    "    response = requests.get(stream_url, stream=True)\n",
    "\n",
    "    # Check if the request was successful\n",
    "    if response.status_code == 200:\n",
    "        # Read the stream content\n",
    "        content = b\"\"\n",
    "        for chunk in response.iter_content(chunk_size=1024):\n",
    "            content += chunk\n",
    "            # Look for the JPEG start and end markers\n",
    "            start = content.find(b'\\xff\\xd8')\n",
    "            end = content.find(b'\\xff\\xd9')\n",
    "            if start != -1 and end != -1:\n",
    "                # Extract the JPEG image\n",
    "                jpeg_data = content[start:end+2]\n",
    "                # Open the image using PIL\n",
    "                image = Image.open(BytesIO(jpeg_data))\n",
    "                # Save the image as a .jpg file\n",
    "                image.save(filename)\n",
    "                return filename\n",
    "    else:\n",
    "        print(f\"Failed to fetch stream. Status code: {response.status_code}\")\n",
    "\n",
    "if True: \n",
    "    filename = get_single_image(filename = \"image.jpg\")\n",
    "    display(ipython_Image(filename = filename))"
   ]
  },
  {
   "cell_type": "code",
   "execution_count": 3,
   "id": "93946b28",
   "metadata": {},
   "outputs": [],
   "source": [
    "from PIL import Image"
   ]
  },
  {
   "cell_type": "code",
   "execution_count": 43,
   "id": "17841926",
   "metadata": {},
   "outputs": [
    {
     "name": "stdout",
     "output_type": "stream",
     "text": [
      "Connecting to 192.168.0.125:8000 (192.168.0.125:8000)\r\n",
      "wget: server returned error: HTTP/1.0 404 Not Found\r\n"
     ]
    }
   ],
   "source": [
    "!wget http://192.168.0.125:8000/stream?action=snapshot -O snapshot.jpg"
   ]
  },
  {
   "cell_type": "code",
   "execution_count": 1,
   "id": "4ea35710",
   "metadata": {},
   "outputs": [
    {
     "name": "stdout",
     "output_type": "stream",
     "text": [
      "/bin/sh: line 1: pip: command not found\r\n"
     ]
    }
   ],
   "source": [
    "!PIP_CONFIG_FILE=/dev/null pip install opencv-python"
   ]
  },
  {
   "cell_type": "code",
   "execution_count": 2,
   "id": "0bebc5b4",
   "metadata": {},
   "outputs": [
    {
     "data": {
      "text/plain": [
       "'/var/lib/jupyter/notebooks/soap_mixing'"
      ]
     },
     "execution_count": 2,
     "metadata": {},
     "output_type": "execute_result"
    }
   ],
   "source": [
    "import os \n",
    "os.getcwd()"
   ]
  },
  {
   "cell_type": "code",
   "execution_count": null,
   "id": "acddfa94",
   "metadata": {},
   "outputs": [],
   "source": []
  }
 ],
 "metadata": {
  "kernelspec": {
   "display_name": "matthias_venv",
   "language": "python",
   "name": "matthias_venv"
  },
  "language_info": {
   "codemirror_mode": {
    "name": "ipython",
    "version": 3
   },
   "file_extension": ".py",
   "mimetype": "text/x-python",
   "name": "python",
   "nbconvert_exporter": "python",
   "pygments_lexer": "ipython3",
   "version": "3.10.9"
  }
 },
 "nbformat": 4,
 "nbformat_minor": 5
}
